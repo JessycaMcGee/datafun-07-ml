{
 "cells": [
  {
   "cell_type": "markdown",
   "id": "d5a0dd2a",
   "metadata": {},
   "source": [
    "machine Learning\n",
    "Author: Jessyca \n",
    "github link: https://github.com/JessycaMcGee/datafun-07-ml\n"
   ]
  },
  {
   "cell_type": "markdown",
   "id": "f239eef0",
   "metadata": {},
   "source": [
    "7.5 Chart a straight line"
   ]
  },
  {
   "cell_type": "code",
   "execution_count": null,
   "id": "8a44828f",
   "metadata": {
    "vscode": {
     "languageId": "plaintext"
    }
   },
   "outputs": [],
   "source": []
  },
  {
   "cell_type": "markdown",
   "id": "b3bb2a27",
   "metadata": {},
   "source": [
    "7.6 Average High Temperatures in NYC in January"
   ]
  },
  {
   "cell_type": "code",
   "execution_count": null,
   "id": "20f3093d",
   "metadata": {
    "vscode": {
     "languageId": "plaintext"
    }
   },
   "outputs": [],
   "source": []
  },
  {
   "cell_type": "markdown",
   "id": "80aa68d5",
   "metadata": {},
   "source": [
    "7.7 Average High Temperatures in NYC in January"
   ]
  },
  {
   "cell_type": "code",
   "execution_count": null,
   "id": "1b807d5e",
   "metadata": {
    "vscode": {
     "languageId": "plaintext"
    }
   },
   "outputs": [],
   "source": []
  },
  {
   "cell_type": "markdown",
   "id": "5b47e858",
   "metadata": {},
   "source": [
    "7.8 insight"
   ]
  },
  {
   "cell_type": "markdown",
   "id": "7d7b9ba8",
   "metadata": {},
   "source": []
  }
 ],
 "metadata": {
  "language_info": {
   "name": "python"
  }
 },
 "nbformat": 4,
 "nbformat_minor": 5
}
