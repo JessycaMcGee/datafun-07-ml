{
 "cells": [
  {
   "cell_type": "markdown",
   "id": "d5a0dd2a",
   "metadata": {},
   "source": [
    "machine Learning\n",
    "Author: Jessyca \n",
    "github link: https://github.com/JessycaMcGee/datafun-07-ml\n"
   ]
  },
  {
   "cell_type": "code",
   "execution_count": null,
   "id": "791f1760",
   "metadata": {
    "vscode": {
     "languageId": "plaintext"
    }
   },
   "outputs": [],
   "source": [
    "import pandas as pd\n",
    "import seaborn as sns\n",
    "from scipy import stats\n",
    "from sklearn.model_selection import train_test_split"
   ]
  },
  {
   "cell_type": "markdown",
   "id": "f239eef0",
   "metadata": {},
   "source": [
    "7.5 Chart a straight line"
   ]
  },
  {
   "cell_type": "code",
   "execution_count": null,
   "id": "8a44828f",
   "metadata": {
    "vscode": {
     "languageId": "plaintext"
    }
   },
   "outputs": [],
   "source": [
    "c = lambda f: 5 / 9 * (f - 32)\n",
    "\n",
    "temps = [(f, c(f)) for f in range(0, 101, 10)]\n",
    "\n",
    "# Plot Celsius vs Farenheit\n",
    "temps_df = pd.DataFrame(temps, columns=['Fahrenheit', 'Celsius'])\n",
    "\n",
    "axes = temps_df.plot(x='Fahrenheit', y='Celsius', style='.-')\n",
    "\n",
    "y_label = axes.set_ylabel('Celsius')"
   ]
  },
  {
   "cell_type": "markdown",
   "id": "b3bb2a27",
   "metadata": {},
   "source": [
    "7.6 Average High Temperatures in NYC in January"
   ]
  },
  {
   "cell_type": "markdown",
   "id": "cff78835",
   "metadata": {},
   "source": [
    "Section 1 - Data Acquisition"
   ]
  },
  {
   "cell_type": "code",
   "execution_count": null,
   "id": "20f3093d",
   "metadata": {
    "vscode": {
     "languageId": "plaintext"
    }
   },
   "outputs": [],
   "source": [
    "# Load NYC January high temperature csv\n",
    "nyc = pd.read_csv('ave_hi_nyc_jan_1895-2018.csv')"
   ]
  },
  {
   "cell_type": "markdown",
   "id": "1c458864",
   "metadata": {},
   "source": [
    "Section 2 - Data Inspection"
   ]
  },
  {
   "cell_type": "code",
   "execution_count": null,
   "id": "9df83e4c",
   "metadata": {
    "vscode": {
     "languageId": "plaintext"
    }
   },
   "outputs": [],
   "source": [
    "# View head\n",
    "nyc.head()\n",
    "\n",
    "#View Tail\n",
    "nyc.tail()"
   ]
  },
  {
   "cell_type": "markdown",
   "id": "8a364c3a",
   "metadata": {},
   "source": [
    "Section 3 - Data Cleaning"
   ]
  },
  {
   "cell_type": "code",
   "execution_count": null,
   "id": "d95b448e",
   "metadata": {
    "vscode": {
     "languageId": "plaintext"
    }
   },
   "outputs": [],
   "source": [
    "# Rename columns\n",
    "nyc.columns = ['Date', 'Temperature', 'Anomaly']\n",
    "# Check\n",
    "nyc.head(3)\n",
    "\n",
    "# Remove 01 (January) from labels'\n",
    "nyc.Date = nyc.Date.floordiv(100)\n",
    "# Check\n",
    "nyc.head(3)"
   ]
  },
  {
   "cell_type": "markdown",
   "id": "0575b04b",
   "metadata": {},
   "source": [
    "Section 4 - Descriptive Statistics"
   ]
  },
  {
   "cell_type": "code",
   "execution_count": null,
   "id": "8f73a4cc",
   "metadata": {
    "vscode": {
     "languageId": "plaintext"
    }
   },
   "outputs": [],
   "source": [
    "pd.set_option('display.precision',2)\n",
    "\n",
    "nyc.Temperature.describe()"
   ]
  },
  {
   "cell_type": "markdown",
   "id": "6ae1a6af",
   "metadata": {},
   "source": [
    "Section 5 - Build the Model"
   ]
  },
  {
   "cell_type": "code",
   "execution_count": null,
   "id": "f2bf05ca",
   "metadata": {
    "vscode": {
     "languageId": "plaintext"
    }
   },
   "outputs": [],
   "source": [
    "linear_regression = stats.linregress(x=nyc.Date,\n",
    "                                     y=nyc.Temperature)\n",
    "\n",
    "linear_regression.slope\n",
    "linear_regression.intercept\n",
    "\n",
    "linear_regression.slope * 2019 + linear_regression.intercept"
   ]
  },
  {
   "cell_type": "markdown",
   "id": "878ec5b3",
   "metadata": {},
   "source": [
    "Section 6 - Predict"
   ]
  },
  {
   "cell_type": "code",
   "execution_count": null,
   "id": "ee8bb5fa",
   "metadata": {
    "vscode": {
     "languageId": "plaintext"
    }
   },
   "outputs": [],
   "source": [
    "linear_regression = stats.linregress(x=nyc.Date,\n",
    "                                     y=nyc.Temperature)\n",
    "\n",
    "linear_regression.slope\n",
    "linear_regression.intercept\n",
    "\n",
    "linear_regression.slope * 2024 + linear_regression.intercept"
   ]
  },
  {
   "cell_type": "markdown",
   "id": "7d9ad6a4",
   "metadata": {},
   "source": [
    "Section 7 - Visualizations"
   ]
  },
  {
   "cell_type": "code",
   "execution_count": null,
   "id": "07d27106",
   "metadata": {
    "vscode": {
     "languageId": "plaintext"
    }
   },
   "outputs": [],
   "source": [
    "sns.set_style('whitegrid')\n",
    "\n",
    "axes = sns.regplot(x=nyc.Date, y=nyc.Temperature)\n",
    "\n",
    "axes.set_ylim(10, 70)"
   ]
  },
  {
   "cell_type": "markdown",
   "id": "80aa68d5",
   "metadata": {},
   "source": [
    "7.7 Average High Temperatures in NYC in January"
   ]
  },
  {
   "cell_type": "markdown",
   "id": "7c469e0d",
   "metadata": {},
   "source": [
    "Section 1 - Build the Model"
   ]
  },
  {
   "cell_type": "code",
   "execution_count": null,
   "id": "1b807d5e",
   "metadata": {
    "vscode": {
     "languageId": "plaintext"
    }
   },
   "outputs": [],
   "source": [
    "# Split data\n",
    "X_train, X_test, y_train, y_test = train_test_split(\n",
    "     nyc.Date.values.reshape(-1, 1), nyc.Temperature.values, \n",
    "     random_state=11)\n",
    "\n",
    "X_train.shape"
   ]
  },
  {
   "cell_type": "code",
   "execution_count": null,
   "id": "12cb1011",
   "metadata": {
    "vscode": {
     "languageId": "plaintext"
    }
   },
   "outputs": [],
   "source": [
    "X_test.shape"
   ]
  },
  {
   "cell_type": "code",
   "execution_count": null,
   "id": "791fac98",
   "metadata": {
    "vscode": {
     "languageId": "plaintext"
    }
   },
   "outputs": [],
   "source": [
    "# Train\n",
    "\n",
    "from sklearn.linear_model import LinearRegression\n",
    "\n",
    "linear_regression = LinearRegression()\n",
    "\n",
    "linear_regression.fit(X=X_train, y=y_train)"
   ]
  },
  {
   "cell_type": "code",
   "execution_count": null,
   "id": "33ecc9c0",
   "metadata": {
    "vscode": {
     "languageId": "plaintext"
    }
   },
   "outputs": [],
   "source": [
    "linear_regression.coef_"
   ]
  },
  {
   "cell_type": "code",
   "execution_count": null,
   "id": "be0176ae",
   "metadata": {
    "vscode": {
     "languageId": "plaintext"
    }
   },
   "outputs": [],
   "source": [
    "linear_regression.intercept_"
   ]
  },
  {
   "cell_type": "markdown",
   "id": "8525ae7f",
   "metadata": {},
   "source": [
    "Section 2 - Test the Model"
   ]
  },
  {
   "cell_type": "code",
   "execution_count": null,
   "id": "a7a38e1e",
   "metadata": {
    "vscode": {
     "languageId": "plaintext"
    }
   },
   "outputs": [],
   "source": [
    "predicted = linear_regression.predict(X_test)\n",
    "\n",
    "expected = y_test\n",
    "\n",
    "for p, e in zip(predicted[::5], expected[::5]):\n",
    "     print(f'predicted: {p:.2f}, expected: {e:.2f}')"
   ]
  },
  {
   "cell_type": "markdown",
   "id": "364ee23d",
   "metadata": {},
   "source": [
    "Section 3 - Predict"
   ]
  },
  {
   "cell_type": "code",
   "execution_count": null,
   "id": "c2a1fe50",
   "metadata": {
    "vscode": {
     "languageId": "plaintext"
    }
   },
   "outputs": [],
   "source": [
    "predict = (lambda x: linear_regression.coef_ * x + \n",
    "                      linear_regression.intercept_)\n",
    "\n",
    "predict(2024)"
   ]
  },
  {
   "cell_type": "code",
   "execution_count": null,
   "id": "e7ff5fd6",
   "metadata": {
    "vscode": {
     "languageId": "plaintext"
    }
   },
   "outputs": [],
   "source": [
    "predict(1890)"
   ]
  },
  {
   "cell_type": "markdown",
   "id": "4eb608e3",
   "metadata": {},
   "source": [
    "Section 4 - Visualizations"
   ]
  },
  {
   "cell_type": "code",
   "execution_count": null,
   "id": "e0877fef",
   "metadata": {
    "vscode": {
     "languageId": "plaintext"
    }
   },
   "outputs": [],
   "source": [
    "axes = sns.scatterplot(data=nyc, x='Date', y='Temperature',\n",
    "     hue='Temperature', palette='winter', legend=False)\n",
    "\n",
    "axes.set_ylim(10, 70)\n",
    "\n",
    "import numpy as np\n",
    "\n",
    "x = np.array([min(nyc.Date.values), max(nyc.Date.values)])\n",
    "\n",
    "y = predict(x)\n",
    "\n",
    "import matplotlib.pyplot as plt \n",
    "\n",
    "line = plt.plot(x, y)"
   ]
  },
  {
   "cell_type": "markdown",
   "id": "5b47e858",
   "metadata": {},
   "source": [
    "7.8 insight"
   ]
  },
  {
   "cell_type": "markdown",
   "id": "7d7b9ba8",
   "metadata": {},
   "source": []
  }
 ],
 "metadata": {
  "language_info": {
   "name": "python"
  }
 },
 "nbformat": 4,
 "nbformat_minor": 5
}
